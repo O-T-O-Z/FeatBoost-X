{
 "cells": [
  {
   "cell_type": "code",
   "execution_count": 1,
   "id": "e9e27773-2137-4bf6-8c0f-e8b3cce6c6d2",
   "metadata": {},
   "outputs": [],
   "source": [
    "import numpy as np\n",
    "import pandas as pd\n",
    "from lifelines import CoxPHFitter\n",
    "from lifelines.datasets import load_dd\n",
    "from time import time"
   ]
  },
  {
   "cell_type": "markdown",
   "id": "01537cc5-8616-4bc0-a384-8a6555fedcef",
   "metadata": {},
   "source": [
    "Example to test it with: 1808 samples"
   ]
  },
  {
   "cell_type": "code",
   "execution_count": 2,
   "id": "af1e15d6-bc0d-4393-a217-b7b812df73ee",
   "metadata": {},
   "outputs": [
    {
     "data": {
      "text/plain": [
       "(0.5927071741643755, 1808)"
      ]
     },
     "execution_count": 2,
     "metadata": {},
     "output_type": "execute_result"
    }
   ],
   "source": [
    "df = load_dd()\n",
    "cox = CoxPHFitter()\n",
    "df['democracy'] = df['democracy'] == 'Democracy'\n",
    "cox.fit(df[['duration', 'observed', 'democracy']], duration_col='duration', event_col='observed')\n",
    "cox.concordance_index_, len(df)"
   ]
  },
  {
   "cell_type": "code",
   "execution_count": 3,
   "id": "fbbeef79-cc69-4ef8-a035-63f228cf4210",
   "metadata": {},
   "outputs": [],
   "source": [
    "# Event times\n",
    "t = df['duration'].to_numpy()\n",
    "\n",
    "# Event indicator\n",
    "e = df['observed'].to_numpy().astype(bool)\n",
    "\n",
    "# Risk prediction\n",
    "p = -cox.predict_partial_hazard(df[['democracy']]).to_numpy()"
   ]
  },
  {
   "cell_type": "markdown",
   "id": "56ef68f3-281e-468a-9d64-15a9ed988540",
   "metadata": {},
   "source": [
    "My big brain custom implementation. Can be improved further, namely: \n",
    "- `(t_ > 0) & e[:, np.newaxis]` is calculated 3 times \n",
    "- `(t_ < 0) & e[np.newaxis])` is calculated 3 times"
   ]
  },
  {
   "cell_type": "code",
   "execution_count": 4,
   "id": "b8b04bea-0826-4db0-8ab0-172934fd7e2f",
   "metadata": {},
   "outputs": [
    {
     "name": "stdout",
     "output_type": "stream",
     "text": [
      "Time: 0.0911, C index = 0.5948\n"
     ]
    }
   ],
   "source": [
    "def c_index_improved():\n",
    "\n",
    "    # Shape: [n, n], where n is the number of samples\n",
    "    # t_[i,j] is positive if i lives more than j\n",
    "    # t_[i,j] is negative if i lives less than j\n",
    "    # t_[i,j] = 0 if i and j die at the same time\n",
    "    t_ = t[np.newaxis] - t[:, np.newaxis]\n",
    "\n",
    "    # Do the same for the risk scores\n",
    "    p_ = p[np.newaxis] - p[:, np.newaxis]\n",
    "\n",
    "    # Concordant pairs are all of the pairs (i,j) where \n",
    "    # t[i]>t[j] and p[i]>p[j] and j is uncensored\n",
    "    # OR\n",
    "    # t[i]<t[j] and p[i]<p[j] and i is uncensored\n",
    "    concordant = np.stack((((t_ > 0) & (p_ > 0) & e[:, np.newaxis]) | ((t_ < 0) & (p_ < 0) & e[np.newaxis])).nonzero(), axis=1)\n",
    "    \n",
    "    # Apply the same logic for discordant pairs\n",
    "    discordant = np.stack((((t_ > 0) & (p_ < 0) & e[:, np.newaxis]) | ((t_ < 0) & (p_ > 0) & e[np.newaxis])).nonzero(), axis=1)\n",
    "    \n",
    "    # Apply the same logic for tied pairs\n",
    "    tied       = np.stack((((t_ > 0) & (p_ == 0) & e[:, np.newaxis]) | ((t_ < 0) & (p_ == 0) & e[np.newaxis])).nonzero(), axis=1)\n",
    "\n",
    "    c_index = (len(concordant) + .5 * len(tied)) / (len(concordant) + len(tied) + len(discordant))\n",
    "    return c_index, concordant, discordant\n",
    "\n",
    "start = time()\n",
    "my_c, my_conc, my_disc = c_index_improved()\n",
    "print(f'Time: {time() - start :.4f}, C index = {my_c:.4f}')"
   ]
  },
  {
   "cell_type": "markdown",
   "id": "819633a3-1507-4530-b2c7-81973be30a50",
   "metadata": {},
   "source": [
    "This is the original implementation copy-pasted from github:"
   ]
  },
  {
   "cell_type": "code",
   "execution_count": 5,
   "id": "1295c97d-b64c-4a60-bd0d-be3e5b6cd152",
   "metadata": {},
   "outputs": [
    {
     "name": "stdout",
     "output_type": "stream",
     "text": [
      "Time: 10.6841, C index = 0.5948\n"
     ]
    }
   ],
   "source": [
    "def _c_index_concordant():\n",
    "    \n",
    "    event_times = t # I set this to my event times\n",
    "    event_observed = e # I set this to my event indicators\n",
    "    y_pred = p # I set to my risk estimation\n",
    "    # Everything else is copy-paste\n",
    "    \n",
    "    concordant = 0\n",
    "    discordant = 0\n",
    "    tied = 0\n",
    "    concordant_pairs = []\n",
    "    discordant_pairs = []\n",
    "    for i in range(len(event_times)):\n",
    "        for j in range(len(event_times)):\n",
    "            if i == j or (event_observed[i] == 0 and event_observed[j] == 0):\n",
    "                continue\n",
    "            if event_observed[i] == 1 and event_observed[j] == 1:\n",
    "                if event_times[i] < event_times[j]:\n",
    "                    if y_pred[i] < y_pred[j]:\n",
    "                        concordant += 1\n",
    "                        concordant_pairs.append((i, j))\n",
    "                    elif y_pred[i] > y_pred[j]:\n",
    "                        discordant += 1\n",
    "                        discordant_pairs.append((i, j))\n",
    "                    else:\n",
    "                        tied += 1\n",
    "                elif event_times[i] > event_times[j]:\n",
    "                    if y_pred[i] > y_pred[j]:\n",
    "                        concordant += 1\n",
    "                        concordant_pairs.append((i, j))\n",
    "                    elif y_pred[i] < y_pred[j]:\n",
    "                        discordant += 1\n",
    "                        discordant_pairs.append((i, j))\n",
    "                    else:\n",
    "                        tied += 1\n",
    "            elif event_observed[i] == 1 and event_observed[j] == 0:\n",
    "                if event_times[i] < event_times[j]:\n",
    "                    if y_pred[i] < y_pred[j]:\n",
    "                        concordant += 1\n",
    "                        concordant_pairs.append((i, j))\n",
    "                    elif y_pred[i] > y_pred[j]:\n",
    "                        discordant += 1\n",
    "                        discordant_pairs.append((i, j))\n",
    "                    elif y_pred[i] == y_pred[j]:\n",
    "                        tied += 1\n",
    "                elif event_times[i] > event_times[j]:\n",
    "                    # we dont know if this is concordant or discordant\n",
    "                    continue\n",
    "            elif event_observed[i] == 0 and event_observed[j] == 1:\n",
    "                if event_times[j] < event_times[i]:\n",
    "                    if y_pred[j] < y_pred[i]:\n",
    "                        concordant += 1\n",
    "                        concordant_pairs.append((i, j))\n",
    "                    elif y_pred[j] > y_pred[i]:\n",
    "                        discordant += 1\n",
    "                        discordant_pairs.append((i, j))\n",
    "                    elif y_pred[i] == y_pred[j]:\n",
    "                        tied += 1\n",
    "                elif event_times[j] > event_times[i]:\n",
    "                    # we dont know if this is concordant or discordant\n",
    "                    continue\n",
    "\n",
    "    return (\n",
    "        (concordant + 0.5 * tied) / (concordant + tied + discordant),\n",
    "        concordant_pairs,\n",
    "        discordant_pairs,\n",
    "    )\n",
    "\n",
    "start = time()\n",
    "c, conc, disc = _c_index_concordant()\n",
    "print(f'Time: {time() - start :.4f}, C index = {c:.4f}')"
   ]
  },
  {
   "cell_type": "markdown",
   "id": "317115db-08d0-4685-b060-538375f06e07",
   "metadata": {},
   "source": [
    "The results are exactly the same and my implementation is literally 100 times faster :)"
   ]
  },
  {
   "cell_type": "code",
   "execution_count": 6,
   "id": "8a1ec50b-52ac-49bb-ac7a-4bf3630a02f0",
   "metadata": {},
   "outputs": [
    {
     "name": "stdout",
     "output_type": "stream",
     "text": [
      "True\n",
      "True\n"
     ]
    }
   ],
   "source": [
    "print(np.array_equal(my_conc, conc))\n",
    "print(np.array_equal(my_disc, disc))"
   ]
  }
 ],
 "metadata": {
  "kernelspec": {
   "display_name": "Python 3 (ipykernel)",
   "language": "python",
   "name": "python3"
  },
  "language_info": {
   "codemirror_mode": {
    "name": "ipython",
    "version": 3
   },
   "file_extension": ".py",
   "mimetype": "text/x-python",
   "name": "python",
   "nbconvert_exporter": "python",
   "pygments_lexer": "ipython3",
   "version": "3.10.12"
  }
 },
 "nbformat": 4,
 "nbformat_minor": 5
}
